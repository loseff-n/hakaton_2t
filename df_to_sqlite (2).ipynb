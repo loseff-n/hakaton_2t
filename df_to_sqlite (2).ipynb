{
  "nbformat": 4,
  "nbformat_minor": 0,
  "metadata": {
    "colab": {
      "provenance": []
    },
    "kernelspec": {
      "name": "python3",
      "display_name": "Python 3"
    },
    "language_info": {
      "name": "python"
    }
  },
  "cells": [
    {
      "cell_type": "code",
      "execution_count": 21,
      "metadata": {
        "id": "0627mpktG9D0"
      },
      "outputs": [],
      "source": [
        "import sqlite3\n",
        "import pandas as pd"
      ]
    },
    {
      "cell_type": "code",
      "source": [
        "from google.colab import drive\n",
        "drive.mount('/content/drive')"
      ],
      "metadata": {
        "colab": {
          "base_uri": "https://localhost:8080/"
        },
        "id": "pfbOQP-SCNB4",
        "outputId": "1ef9cbfc-9f9a-46d8-85b2-f2a61e5b4456"
      },
      "execution_count": 22,
      "outputs": [
        {
          "output_type": "stream",
          "name": "stdout",
          "text": [
            "Drive already mounted at /content/drive; to attempt to forcibly remount, call drive.mount(\"/content/drive\", force_remount=True).\n"
          ]
        }
      ]
    },
    {
      "cell_type": "code",
      "source": [
        "conn = sqlite3.connect('/content/drive/MyDrive/Хакатон/startups.db')"
      ],
      "metadata": {
        "id": "bLXJaDX2HGkK"
      },
      "execution_count": 23,
      "outputs": []
    },
    {
      "cell_type": "code",
      "source": [
        "df = pd.read_pickle('/content/drive/MyDrive/Хакатон/companies_code_freeze.pkl')"
      ],
      "metadata": {
        "id": "0pDTjvgqHIcp"
      },
      "execution_count": 24,
      "outputs": []
    },
    {
      "cell_type": "code",
      "source": [
        "df.sample()"
      ],
      "metadata": {
        "colab": {
          "base_uri": "https://localhost:8080/",
          "height": 191
        },
        "id": "ceCYbouZH1IM",
        "outputId": "dd44d9bd-4215-47af-97c2-f1038e2fcc1c"
      },
      "execution_count": 25,
      "outputs": [
        {
          "output_type": "execute_result",
          "data": {
            "text/plain": [
              "              id  entity_id        name normalized_name category_code  status  \\\n",
              "105458  c:159926   159926.0  Kasumi-sou      kasumi-sou       finance     1.0   \n",
              "\n",
              "       founded_at closed_at            domain             homepage_url  ...  \\\n",
              "105458 2011-07-07       NaT  kasumi-sou.co.jp  http://kasumi-sou.co.jp  ...   \n",
              "\n",
              "       acquiring_object_id acquired_at_first  acquired_at_last  price_amount  \\\n",
              "105458                 NaN               NaN               NaN           NaN   \n",
              "\n",
              "       term_code acquired_object_id acquired_by acquired_at final_sell_price  \\\n",
              "105458       NaN                NaN         NaN         NaN              NaN   \n",
              "\n",
              "       acquired_on_terms  \n",
              "105458               NaN  \n",
              "\n",
              "[1 rows x 61 columns]"
            ],
            "text/html": [
              "\n",
              "  <div id=\"df-849c7830-c823-4267-82e7-1b200c482e63\">\n",
              "    <div class=\"colab-df-container\">\n",
              "      <div>\n",
              "<style scoped>\n",
              "    .dataframe tbody tr th:only-of-type {\n",
              "        vertical-align: middle;\n",
              "    }\n",
              "\n",
              "    .dataframe tbody tr th {\n",
              "        vertical-align: top;\n",
              "    }\n",
              "\n",
              "    .dataframe thead th {\n",
              "        text-align: right;\n",
              "    }\n",
              "</style>\n",
              "<table border=\"1\" class=\"dataframe\">\n",
              "  <thead>\n",
              "    <tr style=\"text-align: right;\">\n",
              "      <th></th>\n",
              "      <th>id</th>\n",
              "      <th>entity_id</th>\n",
              "      <th>name</th>\n",
              "      <th>normalized_name</th>\n",
              "      <th>category_code</th>\n",
              "      <th>status</th>\n",
              "      <th>founded_at</th>\n",
              "      <th>closed_at</th>\n",
              "      <th>domain</th>\n",
              "      <th>homepage_url</th>\n",
              "      <th>...</th>\n",
              "      <th>acquiring_object_id</th>\n",
              "      <th>acquired_at_first</th>\n",
              "      <th>acquired_at_last</th>\n",
              "      <th>price_amount</th>\n",
              "      <th>term_code</th>\n",
              "      <th>acquired_object_id</th>\n",
              "      <th>acquired_by</th>\n",
              "      <th>acquired_at</th>\n",
              "      <th>final_sell_price</th>\n",
              "      <th>acquired_on_terms</th>\n",
              "    </tr>\n",
              "  </thead>\n",
              "  <tbody>\n",
              "    <tr>\n",
              "      <th>105458</th>\n",
              "      <td>c:159926</td>\n",
              "      <td>159926.0</td>\n",
              "      <td>Kasumi-sou</td>\n",
              "      <td>kasumi-sou</td>\n",
              "      <td>finance</td>\n",
              "      <td>1.0</td>\n",
              "      <td>2011-07-07</td>\n",
              "      <td>NaT</td>\n",
              "      <td>kasumi-sou.co.jp</td>\n",
              "      <td>http://kasumi-sou.co.jp</td>\n",
              "      <td>...</td>\n",
              "      <td>NaN</td>\n",
              "      <td>NaN</td>\n",
              "      <td>NaN</td>\n",
              "      <td>NaN</td>\n",
              "      <td>NaN</td>\n",
              "      <td>NaN</td>\n",
              "      <td>NaN</td>\n",
              "      <td>NaN</td>\n",
              "      <td>NaN</td>\n",
              "      <td>NaN</td>\n",
              "    </tr>\n",
              "  </tbody>\n",
              "</table>\n",
              "<p>1 rows × 61 columns</p>\n",
              "</div>\n",
              "      <button class=\"colab-df-convert\" onclick=\"convertToInteractive('df-849c7830-c823-4267-82e7-1b200c482e63')\"\n",
              "              title=\"Convert this dataframe to an interactive table.\"\n",
              "              style=\"display:none;\">\n",
              "        \n",
              "  <svg xmlns=\"http://www.w3.org/2000/svg\" height=\"24px\"viewBox=\"0 0 24 24\"\n",
              "       width=\"24px\">\n",
              "    <path d=\"M0 0h24v24H0V0z\" fill=\"none\"/>\n",
              "    <path d=\"M18.56 5.44l.94 2.06.94-2.06 2.06-.94-2.06-.94-.94-2.06-.94 2.06-2.06.94zm-11 1L8.5 8.5l.94-2.06 2.06-.94-2.06-.94L8.5 2.5l-.94 2.06-2.06.94zm10 10l.94 2.06.94-2.06 2.06-.94-2.06-.94-.94-2.06-.94 2.06-2.06.94z\"/><path d=\"M17.41 7.96l-1.37-1.37c-.4-.4-.92-.59-1.43-.59-.52 0-1.04.2-1.43.59L10.3 9.45l-7.72 7.72c-.78.78-.78 2.05 0 2.83L4 21.41c.39.39.9.59 1.41.59.51 0 1.02-.2 1.41-.59l7.78-7.78 2.81-2.81c.8-.78.8-2.07 0-2.86zM5.41 20L4 18.59l7.72-7.72 1.47 1.35L5.41 20z\"/>\n",
              "  </svg>\n",
              "      </button>\n",
              "      \n",
              "  <style>\n",
              "    .colab-df-container {\n",
              "      display:flex;\n",
              "      flex-wrap:wrap;\n",
              "      gap: 12px;\n",
              "    }\n",
              "\n",
              "    .colab-df-convert {\n",
              "      background-color: #E8F0FE;\n",
              "      border: none;\n",
              "      border-radius: 50%;\n",
              "      cursor: pointer;\n",
              "      display: none;\n",
              "      fill: #1967D2;\n",
              "      height: 32px;\n",
              "      padding: 0 0 0 0;\n",
              "      width: 32px;\n",
              "    }\n",
              "\n",
              "    .colab-df-convert:hover {\n",
              "      background-color: #E2EBFA;\n",
              "      box-shadow: 0px 1px 2px rgba(60, 64, 67, 0.3), 0px 1px 3px 1px rgba(60, 64, 67, 0.15);\n",
              "      fill: #174EA6;\n",
              "    }\n",
              "\n",
              "    [theme=dark] .colab-df-convert {\n",
              "      background-color: #3B4455;\n",
              "      fill: #D2E3FC;\n",
              "    }\n",
              "\n",
              "    [theme=dark] .colab-df-convert:hover {\n",
              "      background-color: #434B5C;\n",
              "      box-shadow: 0px 1px 3px 1px rgba(0, 0, 0, 0.15);\n",
              "      filter: drop-shadow(0px 1px 2px rgba(0, 0, 0, 0.3));\n",
              "      fill: #FFFFFF;\n",
              "    }\n",
              "  </style>\n",
              "\n",
              "      <script>\n",
              "        const buttonEl =\n",
              "          document.querySelector('#df-849c7830-c823-4267-82e7-1b200c482e63 button.colab-df-convert');\n",
              "        buttonEl.style.display =\n",
              "          google.colab.kernel.accessAllowed ? 'block' : 'none';\n",
              "\n",
              "        async function convertToInteractive(key) {\n",
              "          const element = document.querySelector('#df-849c7830-c823-4267-82e7-1b200c482e63');\n",
              "          const dataTable =\n",
              "            await google.colab.kernel.invokeFunction('convertToInteractive',\n",
              "                                                     [key], {});\n",
              "          if (!dataTable) return;\n",
              "\n",
              "          const docLinkHtml = 'Like what you see? Visit the ' +\n",
              "            '<a target=\"_blank\" href=https://colab.research.google.com/notebooks/data_table.ipynb>data table notebook</a>'\n",
              "            + ' to learn more about interactive tables.';\n",
              "          element.innerHTML = '';\n",
              "          dataTable['output_type'] = 'display_data';\n",
              "          await google.colab.output.renderOutput(dataTable, element);\n",
              "          const docLink = document.createElement('div');\n",
              "          docLink.innerHTML = docLinkHtml;\n",
              "          element.appendChild(docLink);\n",
              "        }\n",
              "      </script>\n",
              "    </div>\n",
              "  </div>\n",
              "  "
            ]
          },
          "metadata": {},
          "execution_count": 25
        }
      ]
    },
    {
      "cell_type": "code",
      "source": [
        "df.columns"
      ],
      "metadata": {
        "id": "FP0tAZjaS_9t",
        "outputId": "907960db-6a1e-4656-ff60-ea50e578c2c8",
        "colab": {
          "base_uri": "https://localhost:8080/"
        }
      },
      "execution_count": 26,
      "outputs": [
        {
          "output_type": "execute_result",
          "data": {
            "text/plain": [
              "Index(['id', 'entity_id', 'name', 'normalized_name', 'category_code', 'status',\n",
              "       'founded_at', 'closed_at', 'domain', 'homepage_url', 'twitter_username',\n",
              "       'logo_url', 'logo_width', 'logo_height', 'short_description',\n",
              "       'overview', 'tag_list', 'state_code', 'city', 'region',\n",
              "       'first_investment_at', 'last_investment_at', 'investment_rounds',\n",
              "       'invested_companies', 'first_funding_at', 'last_funding_at',\n",
              "       'funding_rounds', 'funding_total_usd', 'first_milestone_at',\n",
              "       'last_milestone_at', 'milestones', 'relationships', 'updated_at',\n",
              "       'linkcut', 'category_list', 'crunchbase_profile', 'country', 'founders',\n",
              "       'investors', 'address', 'state', 'seed_profile', 'y_combinator_year',\n",
              "       'city_2023', 'country_2023', 'Industries', 'Employees',\n",
              "       'homepage_url_2023', 'Company_values', 'Org_structure', 'Teams and qty',\n",
              "       'acquiring_object_id', 'acquired_at_first', 'acquired_at_last',\n",
              "       'price_amount', 'term_code', 'acquired_object_id', 'acquired_by',\n",
              "       'acquired_at', 'final_sell_price', 'acquired_on_terms'],\n",
              "      dtype='object')"
            ]
          },
          "metadata": {},
          "execution_count": 26
        }
      ]
    },
    {
      "cell_type": "code",
      "source": [
        "df.to_sql(name='companies', con=conn, if_exists='replace', index=False)"
      ],
      "metadata": {
        "colab": {
          "base_uri": "https://localhost:8080/"
        },
        "id": "umIHxsETHv2t",
        "outputId": "a65e59bf-eeb9-4534-c362-63b6b965bafc"
      },
      "execution_count": 27,
      "outputs": [
        {
          "output_type": "execute_result",
          "data": {
            "text/plain": [
              "226175"
            ]
          },
          "metadata": {},
          "execution_count": 27
        }
      ]
    },
    {
      "cell_type": "code",
      "source": [
        "people = pd.read_csv('/content/drive/MyDrive/Хакатон/datasets_to_merge_final/people.csv')"
      ],
      "metadata": {
        "id": "a6vDu4NQzDpN"
      },
      "execution_count": 30,
      "outputs": []
    },
    {
      "cell_type": "code",
      "source": [
        "people.to_sql(name='people', con=conn, if_exists='replace', index=False)"
      ],
      "metadata": {
        "colab": {
          "base_uri": "https://localhost:8080/"
        },
        "id": "9JkrMdwpzN2D",
        "outputId": "9d1be4b3-0083-4075-8251-0c9c0f091393"
      },
      "execution_count": 31,
      "outputs": [
        {
          "output_type": "execute_result",
          "data": {
            "text/plain": [
              "226709"
            ]
          },
          "metadata": {},
          "execution_count": 31
        }
      ]
    },
    {
      "cell_type": "code",
      "source": [
        "relations = pd.read_csv('/content/drive/MyDrive/Хакатон/datasets_to_merge_final/relationships.csv')"
      ],
      "metadata": {
        "id": "0N5wYa016G21"
      },
      "execution_count": 34,
      "outputs": []
    },
    {
      "cell_type": "code",
      "source": [
        "relations.to_sql(name='relations', con=conn, if_exists='replace', index=False)"
      ],
      "metadata": {
        "colab": {
          "base_uri": "https://localhost:8080/"
        },
        "id": "SY-i9yeE6MLC",
        "outputId": "463b7ba7-50ec-4806-f872-bd5d26578497"
      },
      "execution_count": 35,
      "outputs": [
        {
          "output_type": "execute_result",
          "data": {
            "text/plain": [
              "402878"
            ]
          },
          "metadata": {},
          "execution_count": 35
        }
      ]
    },
    {
      "cell_type": "code",
      "source": [
        "degrees = pd.read_csv('/content/drive/MyDrive/Хакатон/datasets_to_merge_final/degrees.csv')"
      ],
      "metadata": {
        "id": "GLk5fVHx6Qo8"
      },
      "execution_count": 36,
      "outputs": []
    },
    {
      "cell_type": "code",
      "source": [
        "degrees.to_sql(name='degrees', con=conn, if_exists='replace', index=False)"
      ],
      "metadata": {
        "colab": {
          "base_uri": "https://localhost:8080/"
        },
        "id": "pFvTl_Gr6XTp",
        "outputId": "a9d2d09c-9898-4da6-f062-cacf0afa125b"
      },
      "execution_count": 37,
      "outputs": [
        {
          "output_type": "execute_result",
          "data": {
            "text/plain": [
              "109610"
            ]
          },
          "metadata": {},
          "execution_count": 37
        }
      ]
    },
    {
      "cell_type": "code",
      "source": [
        "funding_rounds = pd.read_csv('/content/drive/MyDrive/Хакатон/datasets_to_merge_final/funding_rounds.csv')"
      ],
      "metadata": {
        "id": "uVjRuKUE6ntg"
      },
      "execution_count": 38,
      "outputs": []
    },
    {
      "cell_type": "code",
      "source": [
        "funding_rounds.to_sql(name='funding_rounds', con=conn, if_exists='replace', index=False)"
      ],
      "metadata": {
        "colab": {
          "base_uri": "https://localhost:8080/"
        },
        "id": "4RvpD3AV7CUv",
        "outputId": "e9d324b6-45a3-4cd6-efe3-1d18bba6af9c"
      },
      "execution_count": 39,
      "outputs": [
        {
          "output_type": "execute_result",
          "data": {
            "text/plain": [
              "52928"
            ]
          },
          "metadata": {},
          "execution_count": 39
        }
      ]
    },
    {
      "cell_type": "code",
      "source": [
        "funds = pd.read_csv('/content/drive/MyDrive/Хакатон/datasets_to_merge_final/funds.csv')"
      ],
      "metadata": {
        "id": "w4a4dQ427GeV"
      },
      "execution_count": 40,
      "outputs": []
    },
    {
      "cell_type": "code",
      "source": [
        "funds.to_sql(name='funds', con=conn, if_exists='replace', index=False)"
      ],
      "metadata": {
        "colab": {
          "base_uri": "https://localhost:8080/"
        },
        "id": "KNiWjWSZ7Kdo",
        "outputId": "c8ee49d6-31a2-4188-e911-f582c1bfa2e5"
      },
      "execution_count": 41,
      "outputs": [
        {
          "output_type": "execute_result",
          "data": {
            "text/plain": [
              "1564"
            ]
          },
          "metadata": {},
          "execution_count": 41
        }
      ]
    },
    {
      "cell_type": "code",
      "source": [
        "investments = pd.read_csv('/content/drive/MyDrive/Хакатон/datasets_to_merge_final/investments.csv')"
      ],
      "metadata": {
        "id": "OWUvUWk67P0G"
      },
      "execution_count": 42,
      "outputs": []
    },
    {
      "cell_type": "code",
      "source": [
        "investments.to_sql(name='investments', con=conn, if_exists='replace', index=False)"
      ],
      "metadata": {
        "colab": {
          "base_uri": "https://localhost:8080/"
        },
        "id": "0KF0x_vV7P-3",
        "outputId": "54e46ea2-2c6f-43e4-bf78-f26ddbc7fc0d"
      },
      "execution_count": 43,
      "outputs": [
        {
          "output_type": "execute_result",
          "data": {
            "text/plain": [
              "80902"
            ]
          },
          "metadata": {},
          "execution_count": 43
        }
      ]
    },
    {
      "cell_type": "code",
      "source": [
        "ipos = pd.read_csv('/content/drive/MyDrive/Хакатон/datasets_to_merge_final/ipos.csv')"
      ],
      "metadata": {
        "id": "-6V9YwWq7XyV"
      },
      "execution_count": 44,
      "outputs": []
    },
    {
      "cell_type": "code",
      "source": [
        "ipos.to_sql(name='ipos', con=conn, if_exists='replace', index=False)"
      ],
      "metadata": {
        "colab": {
          "base_uri": "https://localhost:8080/"
        },
        "id": "Qx1Fb6PS7X9C",
        "outputId": "e5632100-89da-420f-bbce-d99fc0e8b4f9"
      },
      "execution_count": 45,
      "outputs": [
        {
          "output_type": "execute_result",
          "data": {
            "text/plain": [
              "1259"
            ]
          },
          "metadata": {},
          "execution_count": 45
        }
      ]
    },
    {
      "cell_type": "code",
      "source": [
        "milestones = pd.read_csv('/content/drive/MyDrive/Хакатон/datasets_to_merge_final/milestones.csv')"
      ],
      "metadata": {
        "id": "VS2UiBHV7hNp"
      },
      "execution_count": 46,
      "outputs": []
    },
    {
      "cell_type": "code",
      "source": [
        "milestones.to_sql(name='milestones', con=conn, if_exists='replace', index=False)"
      ],
      "metadata": {
        "colab": {
          "base_uri": "https://localhost:8080/"
        },
        "id": "PeikfVJb7haq",
        "outputId": "db598b4b-b9fb-4e9e-d27f-3b1436a300f6"
      },
      "execution_count": 47,
      "outputs": [
        {
          "output_type": "execute_result",
          "data": {
            "text/plain": [
              "39456"
            ]
          },
          "metadata": {},
          "execution_count": 47
        }
      ]
    },
    {
      "cell_type": "code",
      "source": [
        "offices = pd.read_csv('/content/drive/MyDrive/Хакатон/datasets_to_merge_final/offices.csv')"
      ],
      "metadata": {
        "id": "j2Q296oU7oWg"
      },
      "execution_count": 48,
      "outputs": []
    },
    {
      "cell_type": "code",
      "source": [
        "offices.to_sql(name='offices', con=conn, if_exists='replace', index=False)"
      ],
      "metadata": {
        "colab": {
          "base_uri": "https://localhost:8080/"
        },
        "id": "4TDu2bxf7ogg",
        "outputId": "8a6b15a8-8235-4924-ce09-bde0bbb8dc46"
      },
      "execution_count": 49,
      "outputs": [
        {
          "output_type": "execute_result",
          "data": {
            "text/plain": [
              "112718"
            ]
          },
          "metadata": {},
          "execution_count": 49
        }
      ]
    },
    {
      "cell_type": "code",
      "source": [
        "conn.close()"
      ],
      "metadata": {
        "id": "quRqSkHyITB6"
      },
      "execution_count": 50,
      "outputs": []
    }
  ]
}