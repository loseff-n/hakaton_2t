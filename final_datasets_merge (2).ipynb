{
  "nbformat": 4,
  "nbformat_minor": 0,
  "metadata": {
    "colab": {
      "provenance": []
    },
    "kernelspec": {
      "name": "python3",
      "display_name": "Python 3"
    },
    "language_info": {
      "name": "python"
    }
  },
  "cells": [
    {
      "cell_type": "code",
      "execution_count": 241,
      "metadata": {
        "id": "P1Qb6aBxhW0T"
      },
      "outputs": [],
      "source": [
        "import pandas as pd\n",
        "import numpy as np"
      ]
    },
    {
      "cell_type": "code",
      "source": [
        "from google.colab import drive\n",
        "drive.mount('/content/drive')"
      ],
      "metadata": {
        "colab": {
          "base_uri": "https://localhost:8080/"
        },
        "id": "QrdI6zMphe1Q",
        "outputId": "cff19c0a-2674-4ff9-dc37-bd6ecc2747e8"
      },
      "execution_count": 242,
      "outputs": [
        {
          "output_type": "stream",
          "name": "stdout",
          "text": [
            "Drive already mounted at /content/drive; to attempt to forcibly remount, call drive.mount(\"/content/drive\", force_remount=True).\n"
          ]
        }
      ]
    },
    {
      "cell_type": "code",
      "source": [
        "# Проведем слияния с основной базой базы поглощений\n",
        "\n",
        "acq = pd.read_csv('/content/drive/MyDrive/Хакатон/datasets_to_merge_final/acquisitions.csv')"
      ],
      "metadata": {
        "id": "CMlITrRwhmNE"
      },
      "execution_count": null,
      "outputs": []
    },
    {
      "cell_type": "code",
      "source": [
        "acq.sample()"
      ],
      "metadata": {
        "colab": {
          "base_uri": "https://localhost:8080/",
          "height": 162
        },
        "id": "pevWtHk-h4XB",
        "outputId": "00b8524b-f8e5-439a-d223-187b190a043a"
      },
      "execution_count": null,
      "outputs": [
        {
          "output_type": "execute_result",
          "data": {
            "text/plain": [
              "      id  acquisition_id acquiring_object_id acquired_object_id term_code  \\\n",
              "660  661             796             c:15389             c:1004       NaN   \n",
              "\n",
              "     price_amount price_currency_code acquired_at  \\\n",
              "660           0.0                 USD  2008-12-15   \n",
              "\n",
              "                                            source_url    source_description  \\\n",
              "660  http://uk.techcrunch.com/2008/12/05/tioti-sold...  TIOTI sold to Vizimo   \n",
              "\n",
              "              created_at           updated_at  \n",
              "660  2008-12-16 00:50:25  2008-12-16 00:50:25  "
            ],
            "text/html": [
              "\n",
              "  <div id=\"df-b3344d96-b263-48e2-922c-b81b13820916\">\n",
              "    <div class=\"colab-df-container\">\n",
              "      <div>\n",
              "<style scoped>\n",
              "    .dataframe tbody tr th:only-of-type {\n",
              "        vertical-align: middle;\n",
              "    }\n",
              "\n",
              "    .dataframe tbody tr th {\n",
              "        vertical-align: top;\n",
              "    }\n",
              "\n",
              "    .dataframe thead th {\n",
              "        text-align: right;\n",
              "    }\n",
              "</style>\n",
              "<table border=\"1\" class=\"dataframe\">\n",
              "  <thead>\n",
              "    <tr style=\"text-align: right;\">\n",
              "      <th></th>\n",
              "      <th>id</th>\n",
              "      <th>acquisition_id</th>\n",
              "      <th>acquiring_object_id</th>\n",
              "      <th>acquired_object_id</th>\n",
              "      <th>term_code</th>\n",
              "      <th>price_amount</th>\n",
              "      <th>price_currency_code</th>\n",
              "      <th>acquired_at</th>\n",
              "      <th>source_url</th>\n",
              "      <th>source_description</th>\n",
              "      <th>created_at</th>\n",
              "      <th>updated_at</th>\n",
              "    </tr>\n",
              "  </thead>\n",
              "  <tbody>\n",
              "    <tr>\n",
              "      <th>660</th>\n",
              "      <td>661</td>\n",
              "      <td>796</td>\n",
              "      <td>c:15389</td>\n",
              "      <td>c:1004</td>\n",
              "      <td>NaN</td>\n",
              "      <td>0.0</td>\n",
              "      <td>USD</td>\n",
              "      <td>2008-12-15</td>\n",
              "      <td>http://uk.techcrunch.com/2008/12/05/tioti-sold...</td>\n",
              "      <td>TIOTI sold to Vizimo</td>\n",
              "      <td>2008-12-16 00:50:25</td>\n",
              "      <td>2008-12-16 00:50:25</td>\n",
              "    </tr>\n",
              "  </tbody>\n",
              "</table>\n",
              "</div>\n",
              "      <button class=\"colab-df-convert\" onclick=\"convertToInteractive('df-b3344d96-b263-48e2-922c-b81b13820916')\"\n",
              "              title=\"Convert this dataframe to an interactive table.\"\n",
              "              style=\"display:none;\">\n",
              "        \n",
              "  <svg xmlns=\"http://www.w3.org/2000/svg\" height=\"24px\"viewBox=\"0 0 24 24\"\n",
              "       width=\"24px\">\n",
              "    <path d=\"M0 0h24v24H0V0z\" fill=\"none\"/>\n",
              "    <path d=\"M18.56 5.44l.94 2.06.94-2.06 2.06-.94-2.06-.94-.94-2.06-.94 2.06-2.06.94zm-11 1L8.5 8.5l.94-2.06 2.06-.94-2.06-.94L8.5 2.5l-.94 2.06-2.06.94zm10 10l.94 2.06.94-2.06 2.06-.94-2.06-.94-.94-2.06-.94 2.06-2.06.94z\"/><path d=\"M17.41 7.96l-1.37-1.37c-.4-.4-.92-.59-1.43-.59-.52 0-1.04.2-1.43.59L10.3 9.45l-7.72 7.72c-.78.78-.78 2.05 0 2.83L4 21.41c.39.39.9.59 1.41.59.51 0 1.02-.2 1.41-.59l7.78-7.78 2.81-2.81c.8-.78.8-2.07 0-2.86zM5.41 20L4 18.59l7.72-7.72 1.47 1.35L5.41 20z\"/>\n",
              "  </svg>\n",
              "      </button>\n",
              "      \n",
              "  <style>\n",
              "    .colab-df-container {\n",
              "      display:flex;\n",
              "      flex-wrap:wrap;\n",
              "      gap: 12px;\n",
              "    }\n",
              "\n",
              "    .colab-df-convert {\n",
              "      background-color: #E8F0FE;\n",
              "      border: none;\n",
              "      border-radius: 50%;\n",
              "      cursor: pointer;\n",
              "      display: none;\n",
              "      fill: #1967D2;\n",
              "      height: 32px;\n",
              "      padding: 0 0 0 0;\n",
              "      width: 32px;\n",
              "    }\n",
              "\n",
              "    .colab-df-convert:hover {\n",
              "      background-color: #E2EBFA;\n",
              "      box-shadow: 0px 1px 2px rgba(60, 64, 67, 0.3), 0px 1px 3px 1px rgba(60, 64, 67, 0.15);\n",
              "      fill: #174EA6;\n",
              "    }\n",
              "\n",
              "    [theme=dark] .colab-df-convert {\n",
              "      background-color: #3B4455;\n",
              "      fill: #D2E3FC;\n",
              "    }\n",
              "\n",
              "    [theme=dark] .colab-df-convert:hover {\n",
              "      background-color: #434B5C;\n",
              "      box-shadow: 0px 1px 3px 1px rgba(0, 0, 0, 0.15);\n",
              "      filter: drop-shadow(0px 1px 2px rgba(0, 0, 0, 0.3));\n",
              "      fill: #FFFFFF;\n",
              "    }\n",
              "  </style>\n",
              "\n",
              "      <script>\n",
              "        const buttonEl =\n",
              "          document.querySelector('#df-b3344d96-b263-48e2-922c-b81b13820916 button.colab-df-convert');\n",
              "        buttonEl.style.display =\n",
              "          google.colab.kernel.accessAllowed ? 'block' : 'none';\n",
              "\n",
              "        async function convertToInteractive(key) {\n",
              "          const element = document.querySelector('#df-b3344d96-b263-48e2-922c-b81b13820916');\n",
              "          const dataTable =\n",
              "            await google.colab.kernel.invokeFunction('convertToInteractive',\n",
              "                                                     [key], {});\n",
              "          if (!dataTable) return;\n",
              "\n",
              "          const docLinkHtml = 'Like what you see? Visit the ' +\n",
              "            '<a target=\"_blank\" href=https://colab.research.google.com/notebooks/data_table.ipynb>data table notebook</a>'\n",
              "            + ' to learn more about interactive tables.';\n",
              "          element.innerHTML = '';\n",
              "          dataTable['output_type'] = 'display_data';\n",
              "          await google.colab.output.renderOutput(dataTable, element);\n",
              "          const docLink = document.createElement('div');\n",
              "          docLink.innerHTML = docLinkHtml;\n",
              "          element.appendChild(docLink);\n",
              "        }\n",
              "      </script>\n",
              "    </div>\n",
              "  </div>\n",
              "  "
            ]
          },
          "metadata": {},
          "execution_count": 214
        }
      ]
    },
    {
      "cell_type": "code",
      "source": [
        "acq.acquired_at = acq.acquired_at.fillna(acq.created_at)"
      ],
      "metadata": {
        "id": "_4InJfWdoLrb"
      },
      "execution_count": null,
      "outputs": []
    },
    {
      "cell_type": "code",
      "source": [
        "first_acq = acq.groupby('acquiring_object_id')['acquired_at'].min().reset_index()\n",
        "last_acq = acq.groupby('acquiring_object_id')['acquired_at'].max().reset_index()"
      ],
      "metadata": {
        "id": "42c5zIp9ornn"
      },
      "execution_count": null,
      "outputs": []
    },
    {
      "cell_type": "code",
      "source": [
        "acquiring_objects = pd.merge(first_acq, last_acq, how='outer', on='acquiring_object_id', suffixes=['_first', '_last'])"
      ],
      "metadata": {
        "id": "zb7_W5dtpeDd"
      },
      "execution_count": null,
      "outputs": []
    },
    {
      "cell_type": "code",
      "source": [
        "price_amount = acq.groupby('acquiring_object_id')['price_amount'].sum().reset_index()"
      ],
      "metadata": {
        "id": "kuT2f_9Lm3ar"
      },
      "execution_count": null,
      "outputs": []
    },
    {
      "cell_type": "code",
      "source": [
        "acquiring_objects = acquiring_objects.merge(price_amount, how='outer', on='acquiring_object_id')"
      ],
      "metadata": {
        "id": "FLxFXhy9q1sr"
      },
      "execution_count": null,
      "outputs": []
    },
    {
      "cell_type": "code",
      "source": [
        "def agg_strings(lst):\n",
        "    return ', '.join(list(filter(lambda x: isinstance(x, str), lst)))\n",
        "\n",
        "terms = acq.groupby('acquiring_object_id').agg({'term_code': agg_strings}).reset_index()"
      ],
      "metadata": {
        "id": "qycmwdnylKX-"
      },
      "execution_count": null,
      "outputs": []
    },
    {
      "cell_type": "code",
      "source": [
        "acquiring_objects = acquiring_objects.merge(terms, how='outer', on='acquiring_object_id')"
      ],
      "metadata": {
        "id": "H3F4FKLJrGqI"
      },
      "execution_count": null,
      "outputs": []
    },
    {
      "cell_type": "code",
      "source": [
        "acquired_objects = acq.groupby('acquiring_object_id').agg({'acquired_object_id': agg_strings}).reset_index()"
      ],
      "metadata": {
        "id": "Zj_BSEv4jObL"
      },
      "execution_count": null,
      "outputs": []
    },
    {
      "cell_type": "code",
      "source": [
        "acquiring_objects = acquiring_objects.merge(acquired_objects, how='outer', on='acquiring_object_id')"
      ],
      "metadata": {
        "id": "x3JPJ498pBe0"
      },
      "execution_count": null,
      "outputs": []
    },
    {
      "cell_type": "code",
      "source": [
        "acquiring_objects.sample()"
      ],
      "metadata": {
        "colab": {
          "base_uri": "https://localhost:8080/",
          "height": 142
        },
        "id": "3RVsQYSgrvs9",
        "outputId": "1e5a5e01-7c15-4d01-b584-b5b82445f49a"
      },
      "execution_count": null,
      "outputs": [
        {
          "output_type": "execute_result",
          "data": {
            "text/plain": [
              "     acquiring_object_id acquired_at_first acquired_at_last  price_amount  \\\n",
              "1954             c:26486        2008-06-19       2013-07-25   182500000.0   \n",
              "\n",
              "             term_code                                acquired_object_id  \n",
              "1954  cash, cash, cash  c:26487, c:27414, c:478, c:30586, c:3445, c:3525  "
            ],
            "text/html": [
              "\n",
              "  <div id=\"df-fe98d941-685e-4338-91e6-b6e3fa3b3350\">\n",
              "    <div class=\"colab-df-container\">\n",
              "      <div>\n",
              "<style scoped>\n",
              "    .dataframe tbody tr th:only-of-type {\n",
              "        vertical-align: middle;\n",
              "    }\n",
              "\n",
              "    .dataframe tbody tr th {\n",
              "        vertical-align: top;\n",
              "    }\n",
              "\n",
              "    .dataframe thead th {\n",
              "        text-align: right;\n",
              "    }\n",
              "</style>\n",
              "<table border=\"1\" class=\"dataframe\">\n",
              "  <thead>\n",
              "    <tr style=\"text-align: right;\">\n",
              "      <th></th>\n",
              "      <th>acquiring_object_id</th>\n",
              "      <th>acquired_at_first</th>\n",
              "      <th>acquired_at_last</th>\n",
              "      <th>price_amount</th>\n",
              "      <th>term_code</th>\n",
              "      <th>acquired_object_id</th>\n",
              "    </tr>\n",
              "  </thead>\n",
              "  <tbody>\n",
              "    <tr>\n",
              "      <th>1954</th>\n",
              "      <td>c:26486</td>\n",
              "      <td>2008-06-19</td>\n",
              "      <td>2013-07-25</td>\n",
              "      <td>182500000.0</td>\n",
              "      <td>cash, cash, cash</td>\n",
              "      <td>c:26487, c:27414, c:478, c:30586, c:3445, c:3525</td>\n",
              "    </tr>\n",
              "  </tbody>\n",
              "</table>\n",
              "</div>\n",
              "      <button class=\"colab-df-convert\" onclick=\"convertToInteractive('df-fe98d941-685e-4338-91e6-b6e3fa3b3350')\"\n",
              "              title=\"Convert this dataframe to an interactive table.\"\n",
              "              style=\"display:none;\">\n",
              "        \n",
              "  <svg xmlns=\"http://www.w3.org/2000/svg\" height=\"24px\"viewBox=\"0 0 24 24\"\n",
              "       width=\"24px\">\n",
              "    <path d=\"M0 0h24v24H0V0z\" fill=\"none\"/>\n",
              "    <path d=\"M18.56 5.44l.94 2.06.94-2.06 2.06-.94-2.06-.94-.94-2.06-.94 2.06-2.06.94zm-11 1L8.5 8.5l.94-2.06 2.06-.94-2.06-.94L8.5 2.5l-.94 2.06-2.06.94zm10 10l.94 2.06.94-2.06 2.06-.94-2.06-.94-.94-2.06-.94 2.06-2.06.94z\"/><path d=\"M17.41 7.96l-1.37-1.37c-.4-.4-.92-.59-1.43-.59-.52 0-1.04.2-1.43.59L10.3 9.45l-7.72 7.72c-.78.78-.78 2.05 0 2.83L4 21.41c.39.39.9.59 1.41.59.51 0 1.02-.2 1.41-.59l7.78-7.78 2.81-2.81c.8-.78.8-2.07 0-2.86zM5.41 20L4 18.59l7.72-7.72 1.47 1.35L5.41 20z\"/>\n",
              "  </svg>\n",
              "      </button>\n",
              "      \n",
              "  <style>\n",
              "    .colab-df-container {\n",
              "      display:flex;\n",
              "      flex-wrap:wrap;\n",
              "      gap: 12px;\n",
              "    }\n",
              "\n",
              "    .colab-df-convert {\n",
              "      background-color: #E8F0FE;\n",
              "      border: none;\n",
              "      border-radius: 50%;\n",
              "      cursor: pointer;\n",
              "      display: none;\n",
              "      fill: #1967D2;\n",
              "      height: 32px;\n",
              "      padding: 0 0 0 0;\n",
              "      width: 32px;\n",
              "    }\n",
              "\n",
              "    .colab-df-convert:hover {\n",
              "      background-color: #E2EBFA;\n",
              "      box-shadow: 0px 1px 2px rgba(60, 64, 67, 0.3), 0px 1px 3px 1px rgba(60, 64, 67, 0.15);\n",
              "      fill: #174EA6;\n",
              "    }\n",
              "\n",
              "    [theme=dark] .colab-df-convert {\n",
              "      background-color: #3B4455;\n",
              "      fill: #D2E3FC;\n",
              "    }\n",
              "\n",
              "    [theme=dark] .colab-df-convert:hover {\n",
              "      background-color: #434B5C;\n",
              "      box-shadow: 0px 1px 3px 1px rgba(0, 0, 0, 0.15);\n",
              "      filter: drop-shadow(0px 1px 2px rgba(0, 0, 0, 0.3));\n",
              "      fill: #FFFFFF;\n",
              "    }\n",
              "  </style>\n",
              "\n",
              "      <script>\n",
              "        const buttonEl =\n",
              "          document.querySelector('#df-fe98d941-685e-4338-91e6-b6e3fa3b3350 button.colab-df-convert');\n",
              "        buttonEl.style.display =\n",
              "          google.colab.kernel.accessAllowed ? 'block' : 'none';\n",
              "\n",
              "        async function convertToInteractive(key) {\n",
              "          const element = document.querySelector('#df-fe98d941-685e-4338-91e6-b6e3fa3b3350');\n",
              "          const dataTable =\n",
              "            await google.colab.kernel.invokeFunction('convertToInteractive',\n",
              "                                                     [key], {});\n",
              "          if (!dataTable) return;\n",
              "\n",
              "          const docLinkHtml = 'Like what you see? Visit the ' +\n",
              "            '<a target=\"_blank\" href=https://colab.research.google.com/notebooks/data_table.ipynb>data table notebook</a>'\n",
              "            + ' to learn more about interactive tables.';\n",
              "          element.innerHTML = '';\n",
              "          dataTable['output_type'] = 'display_data';\n",
              "          await google.colab.output.renderOutput(dataTable, element);\n",
              "          const docLink = document.createElement('div');\n",
              "          docLink.innerHTML = docLinkHtml;\n",
              "          element.appendChild(docLink);\n",
              "        }\n",
              "      </script>\n",
              "    </div>\n",
              "  </div>\n",
              "  "
            ]
          },
          "metadata": {},
          "execution_count": 224
        }
      ]
    },
    {
      "cell_type": "code",
      "source": [
        "df = pd.read_pickle('/content/drive/MyDrive/Хакатон/t_y_obj_companies.pkl')"
      ],
      "metadata": {
        "id": "UN4MrCe-h7aS"
      },
      "execution_count": null,
      "outputs": []
    },
    {
      "cell_type": "code",
      "source": [
        "df.sample()"
      ],
      "metadata": {
        "colab": {
          "base_uri": "https://localhost:8080/",
          "height": 209
        },
        "id": "RJQMGwEgiX_v",
        "outputId": "a482e3bc-bc75-4f8a-c49b-3370045bf791"
      },
      "execution_count": null,
      "outputs": [
        {
          "output_type": "execute_result",
          "data": {
            "text/plain": [
              "             id  entity_id      name normalized_name category_code  status  \\\n",
              "182273  c:56797    56797.0  Spinback        spinback           web     2.0   \n",
              "\n",
              "       founded_at closed_at        domain         homepage_url  ...  \\\n",
              "182273        NaT       NaT  spinback.com  http://spinback.com  ...   \n",
              "\n",
              "       seed_profile y_combinator_year  city_2023  country_2023 Industries  \\\n",
              "182273          NaN               NaT        NaN           NaN        NaN   \n",
              "\n",
              "       Employees homepage_url_2023 Company_values Org_structure Teams and qty  \n",
              "182273       NaN               NaN            NaN           NaN           NaN  \n",
              "\n",
              "[1 rows x 51 columns]"
            ],
            "text/html": [
              "\n",
              "  <div id=\"df-11d64390-775a-4444-bbe4-682f0796bf54\">\n",
              "    <div class=\"colab-df-container\">\n",
              "      <div>\n",
              "<style scoped>\n",
              "    .dataframe tbody tr th:only-of-type {\n",
              "        vertical-align: middle;\n",
              "    }\n",
              "\n",
              "    .dataframe tbody tr th {\n",
              "        vertical-align: top;\n",
              "    }\n",
              "\n",
              "    .dataframe thead th {\n",
              "        text-align: right;\n",
              "    }\n",
              "</style>\n",
              "<table border=\"1\" class=\"dataframe\">\n",
              "  <thead>\n",
              "    <tr style=\"text-align: right;\">\n",
              "      <th></th>\n",
              "      <th>id</th>\n",
              "      <th>entity_id</th>\n",
              "      <th>name</th>\n",
              "      <th>normalized_name</th>\n",
              "      <th>category_code</th>\n",
              "      <th>status</th>\n",
              "      <th>founded_at</th>\n",
              "      <th>closed_at</th>\n",
              "      <th>domain</th>\n",
              "      <th>homepage_url</th>\n",
              "      <th>...</th>\n",
              "      <th>seed_profile</th>\n",
              "      <th>y_combinator_year</th>\n",
              "      <th>city_2023</th>\n",
              "      <th>country_2023</th>\n",
              "      <th>Industries</th>\n",
              "      <th>Employees</th>\n",
              "      <th>homepage_url_2023</th>\n",
              "      <th>Company_values</th>\n",
              "      <th>Org_structure</th>\n",
              "      <th>Teams and qty</th>\n",
              "    </tr>\n",
              "  </thead>\n",
              "  <tbody>\n",
              "    <tr>\n",
              "      <th>182273</th>\n",
              "      <td>c:56797</td>\n",
              "      <td>56797.0</td>\n",
              "      <td>Spinback</td>\n",
              "      <td>spinback</td>\n",
              "      <td>web</td>\n",
              "      <td>2.0</td>\n",
              "      <td>NaT</td>\n",
              "      <td>NaT</td>\n",
              "      <td>spinback.com</td>\n",
              "      <td>http://spinback.com</td>\n",
              "      <td>...</td>\n",
              "      <td>NaN</td>\n",
              "      <td>NaT</td>\n",
              "      <td>NaN</td>\n",
              "      <td>NaN</td>\n",
              "      <td>NaN</td>\n",
              "      <td>NaN</td>\n",
              "      <td>NaN</td>\n",
              "      <td>NaN</td>\n",
              "      <td>NaN</td>\n",
              "      <td>NaN</td>\n",
              "    </tr>\n",
              "  </tbody>\n",
              "</table>\n",
              "<p>1 rows × 51 columns</p>\n",
              "</div>\n",
              "      <button class=\"colab-df-convert\" onclick=\"convertToInteractive('df-11d64390-775a-4444-bbe4-682f0796bf54')\"\n",
              "              title=\"Convert this dataframe to an interactive table.\"\n",
              "              style=\"display:none;\">\n",
              "        \n",
              "  <svg xmlns=\"http://www.w3.org/2000/svg\" height=\"24px\"viewBox=\"0 0 24 24\"\n",
              "       width=\"24px\">\n",
              "    <path d=\"M0 0h24v24H0V0z\" fill=\"none\"/>\n",
              "    <path d=\"M18.56 5.44l.94 2.06.94-2.06 2.06-.94-2.06-.94-.94-2.06-.94 2.06-2.06.94zm-11 1L8.5 8.5l.94-2.06 2.06-.94-2.06-.94L8.5 2.5l-.94 2.06-2.06.94zm10 10l.94 2.06.94-2.06 2.06-.94-2.06-.94-.94-2.06-.94 2.06-2.06.94z\"/><path d=\"M17.41 7.96l-1.37-1.37c-.4-.4-.92-.59-1.43-.59-.52 0-1.04.2-1.43.59L10.3 9.45l-7.72 7.72c-.78.78-.78 2.05 0 2.83L4 21.41c.39.39.9.59 1.41.59.51 0 1.02-.2 1.41-.59l7.78-7.78 2.81-2.81c.8-.78.8-2.07 0-2.86zM5.41 20L4 18.59l7.72-7.72 1.47 1.35L5.41 20z\"/>\n",
              "  </svg>\n",
              "      </button>\n",
              "      \n",
              "  <style>\n",
              "    .colab-df-container {\n",
              "      display:flex;\n",
              "      flex-wrap:wrap;\n",
              "      gap: 12px;\n",
              "    }\n",
              "\n",
              "    .colab-df-convert {\n",
              "      background-color: #E8F0FE;\n",
              "      border: none;\n",
              "      border-radius: 50%;\n",
              "      cursor: pointer;\n",
              "      display: none;\n",
              "      fill: #1967D2;\n",
              "      height: 32px;\n",
              "      padding: 0 0 0 0;\n",
              "      width: 32px;\n",
              "    }\n",
              "\n",
              "    .colab-df-convert:hover {\n",
              "      background-color: #E2EBFA;\n",
              "      box-shadow: 0px 1px 2px rgba(60, 64, 67, 0.3), 0px 1px 3px 1px rgba(60, 64, 67, 0.15);\n",
              "      fill: #174EA6;\n",
              "    }\n",
              "\n",
              "    [theme=dark] .colab-df-convert {\n",
              "      background-color: #3B4455;\n",
              "      fill: #D2E3FC;\n",
              "    }\n",
              "\n",
              "    [theme=dark] .colab-df-convert:hover {\n",
              "      background-color: #434B5C;\n",
              "      box-shadow: 0px 1px 3px 1px rgba(0, 0, 0, 0.15);\n",
              "      filter: drop-shadow(0px 1px 2px rgba(0, 0, 0, 0.3));\n",
              "      fill: #FFFFFF;\n",
              "    }\n",
              "  </style>\n",
              "\n",
              "      <script>\n",
              "        const buttonEl =\n",
              "          document.querySelector('#df-11d64390-775a-4444-bbe4-682f0796bf54 button.colab-df-convert');\n",
              "        buttonEl.style.display =\n",
              "          google.colab.kernel.accessAllowed ? 'block' : 'none';\n",
              "\n",
              "        async function convertToInteractive(key) {\n",
              "          const element = document.querySelector('#df-11d64390-775a-4444-bbe4-682f0796bf54');\n",
              "          const dataTable =\n",
              "            await google.colab.kernel.invokeFunction('convertToInteractive',\n",
              "                                                     [key], {});\n",
              "          if (!dataTable) return;\n",
              "\n",
              "          const docLinkHtml = 'Like what you see? Visit the ' +\n",
              "            '<a target=\"_blank\" href=https://colab.research.google.com/notebooks/data_table.ipynb>data table notebook</a>'\n",
              "            + ' to learn more about interactive tables.';\n",
              "          element.innerHTML = '';\n",
              "          dataTable['output_type'] = 'display_data';\n",
              "          await google.colab.output.renderOutput(dataTable, element);\n",
              "          const docLink = document.createElement('div');\n",
              "          docLink.innerHTML = docLinkHtml;\n",
              "          element.appendChild(docLink);\n",
              "        }\n",
              "      </script>\n",
              "    </div>\n",
              "  </div>\n",
              "  "
            ]
          },
          "metadata": {},
          "execution_count": 226
        }
      ]
    },
    {
      "cell_type": "code",
      "source": [
        "# Добавляем признаки acquired_at_first\tacquired_at_last\tprice_amount\tterm_code\tacquired_object_id\n",
        "\n",
        "df = df.merge(acquiring_objects, how='left', left_on='id', right_on='acquiring_object_id')"
      ],
      "metadata": {
        "id": "9voBVgV_icmu"
      },
      "execution_count": null,
      "outputs": []
    },
    {
      "cell_type": "code",
      "source": [
        "df.sample()"
      ],
      "metadata": {
        "colab": {
          "base_uri": "https://localhost:8080/",
          "height": 209
        },
        "id": "bB3GhqNZ5JlV",
        "outputId": "8ed84daa-dd5a-46cd-9386-04fe3913a3f9"
      },
      "execution_count": null,
      "outputs": [
        {
          "output_type": "execute_result",
          "data": {
            "text/plain": [
              "         id  entity_id    name normalized_name category_code  status  \\\n",
              "221030  NaN        NaN  xCloud          xcloud        Mobile     1.0   \n",
              "\n",
              "       founded_at closed_at     domain          homepage_url  ...  \\\n",
              "221030 2009-11-01       NaT  xcloud.cc  http://www.xcloud.cc  ...   \n",
              "\n",
              "       homepage_url_2023 Company_values  Org_structure  Teams and qty  \\\n",
              "221030               NaN            NaN            NaN            NaN   \n",
              "\n",
              "       acquiring_object_id acquired_at_first acquired_at_last price_amount  \\\n",
              "221030                 NaN               NaN              NaN          NaN   \n",
              "\n",
              "       term_code acquired_object_id  \n",
              "221030       NaN                NaN  \n",
              "\n",
              "[1 rows x 57 columns]"
            ],
            "text/html": [
              "\n",
              "  <div id=\"df-0090b286-16eb-4217-b824-931c2ef9d8c1\">\n",
              "    <div class=\"colab-df-container\">\n",
              "      <div>\n",
              "<style scoped>\n",
              "    .dataframe tbody tr th:only-of-type {\n",
              "        vertical-align: middle;\n",
              "    }\n",
              "\n",
              "    .dataframe tbody tr th {\n",
              "        vertical-align: top;\n",
              "    }\n",
              "\n",
              "    .dataframe thead th {\n",
              "        text-align: right;\n",
              "    }\n",
              "</style>\n",
              "<table border=\"1\" class=\"dataframe\">\n",
              "  <thead>\n",
              "    <tr style=\"text-align: right;\">\n",
              "      <th></th>\n",
              "      <th>id</th>\n",
              "      <th>entity_id</th>\n",
              "      <th>name</th>\n",
              "      <th>normalized_name</th>\n",
              "      <th>category_code</th>\n",
              "      <th>status</th>\n",
              "      <th>founded_at</th>\n",
              "      <th>closed_at</th>\n",
              "      <th>domain</th>\n",
              "      <th>homepage_url</th>\n",
              "      <th>...</th>\n",
              "      <th>homepage_url_2023</th>\n",
              "      <th>Company_values</th>\n",
              "      <th>Org_structure</th>\n",
              "      <th>Teams and qty</th>\n",
              "      <th>acquiring_object_id</th>\n",
              "      <th>acquired_at_first</th>\n",
              "      <th>acquired_at_last</th>\n",
              "      <th>price_amount</th>\n",
              "      <th>term_code</th>\n",
              "      <th>acquired_object_id</th>\n",
              "    </tr>\n",
              "  </thead>\n",
              "  <tbody>\n",
              "    <tr>\n",
              "      <th>221030</th>\n",
              "      <td>NaN</td>\n",
              "      <td>NaN</td>\n",
              "      <td>xCloud</td>\n",
              "      <td>xcloud</td>\n",
              "      <td>Mobile</td>\n",
              "      <td>1.0</td>\n",
              "      <td>2009-11-01</td>\n",
              "      <td>NaT</td>\n",
              "      <td>xcloud.cc</td>\n",
              "      <td>http://www.xcloud.cc</td>\n",
              "      <td>...</td>\n",
              "      <td>NaN</td>\n",
              "      <td>NaN</td>\n",
              "      <td>NaN</td>\n",
              "      <td>NaN</td>\n",
              "      <td>NaN</td>\n",
              "      <td>NaN</td>\n",
              "      <td>NaN</td>\n",
              "      <td>NaN</td>\n",
              "      <td>NaN</td>\n",
              "      <td>NaN</td>\n",
              "    </tr>\n",
              "  </tbody>\n",
              "</table>\n",
              "<p>1 rows × 57 columns</p>\n",
              "</div>\n",
              "      <button class=\"colab-df-convert\" onclick=\"convertToInteractive('df-0090b286-16eb-4217-b824-931c2ef9d8c1')\"\n",
              "              title=\"Convert this dataframe to an interactive table.\"\n",
              "              style=\"display:none;\">\n",
              "        \n",
              "  <svg xmlns=\"http://www.w3.org/2000/svg\" height=\"24px\"viewBox=\"0 0 24 24\"\n",
              "       width=\"24px\">\n",
              "    <path d=\"M0 0h24v24H0V0z\" fill=\"none\"/>\n",
              "    <path d=\"M18.56 5.44l.94 2.06.94-2.06 2.06-.94-2.06-.94-.94-2.06-.94 2.06-2.06.94zm-11 1L8.5 8.5l.94-2.06 2.06-.94-2.06-.94L8.5 2.5l-.94 2.06-2.06.94zm10 10l.94 2.06.94-2.06 2.06-.94-2.06-.94-.94-2.06-.94 2.06-2.06.94z\"/><path d=\"M17.41 7.96l-1.37-1.37c-.4-.4-.92-.59-1.43-.59-.52 0-1.04.2-1.43.59L10.3 9.45l-7.72 7.72c-.78.78-.78 2.05 0 2.83L4 21.41c.39.39.9.59 1.41.59.51 0 1.02-.2 1.41-.59l7.78-7.78 2.81-2.81c.8-.78.8-2.07 0-2.86zM5.41 20L4 18.59l7.72-7.72 1.47 1.35L5.41 20z\"/>\n",
              "  </svg>\n",
              "      </button>\n",
              "      \n",
              "  <style>\n",
              "    .colab-df-container {\n",
              "      display:flex;\n",
              "      flex-wrap:wrap;\n",
              "      gap: 12px;\n",
              "    }\n",
              "\n",
              "    .colab-df-convert {\n",
              "      background-color: #E8F0FE;\n",
              "      border: none;\n",
              "      border-radius: 50%;\n",
              "      cursor: pointer;\n",
              "      display: none;\n",
              "      fill: #1967D2;\n",
              "      height: 32px;\n",
              "      padding: 0 0 0 0;\n",
              "      width: 32px;\n",
              "    }\n",
              "\n",
              "    .colab-df-convert:hover {\n",
              "      background-color: #E2EBFA;\n",
              "      box-shadow: 0px 1px 2px rgba(60, 64, 67, 0.3), 0px 1px 3px 1px rgba(60, 64, 67, 0.15);\n",
              "      fill: #174EA6;\n",
              "    }\n",
              "\n",
              "    [theme=dark] .colab-df-convert {\n",
              "      background-color: #3B4455;\n",
              "      fill: #D2E3FC;\n",
              "    }\n",
              "\n",
              "    [theme=dark] .colab-df-convert:hover {\n",
              "      background-color: #434B5C;\n",
              "      box-shadow: 0px 1px 3px 1px rgba(0, 0, 0, 0.15);\n",
              "      filter: drop-shadow(0px 1px 2px rgba(0, 0, 0, 0.3));\n",
              "      fill: #FFFFFF;\n",
              "    }\n",
              "  </style>\n",
              "\n",
              "      <script>\n",
              "        const buttonEl =\n",
              "          document.querySelector('#df-0090b286-16eb-4217-b824-931c2ef9d8c1 button.colab-df-convert');\n",
              "        buttonEl.style.display =\n",
              "          google.colab.kernel.accessAllowed ? 'block' : 'none';\n",
              "\n",
              "        async function convertToInteractive(key) {\n",
              "          const element = document.querySelector('#df-0090b286-16eb-4217-b824-931c2ef9d8c1');\n",
              "          const dataTable =\n",
              "            await google.colab.kernel.invokeFunction('convertToInteractive',\n",
              "                                                     [key], {});\n",
              "          if (!dataTable) return;\n",
              "\n",
              "          const docLinkHtml = 'Like what you see? Visit the ' +\n",
              "            '<a target=\"_blank\" href=https://colab.research.google.com/notebooks/data_table.ipynb>data table notebook</a>'\n",
              "            + ' to learn more about interactive tables.';\n",
              "          element.innerHTML = '';\n",
              "          dataTable['output_type'] = 'display_data';\n",
              "          await google.colab.output.renderOutput(dataTable, element);\n",
              "          const docLink = document.createElement('div');\n",
              "          docLink.innerHTML = docLinkHtml;\n",
              "          element.appendChild(docLink);\n",
              "        }\n",
              "      </script>\n",
              "    </div>\n",
              "  </div>\n",
              "  "
            ]
          },
          "metadata": {},
          "execution_count": 228
        }
      ]
    },
    {
      "cell_type": "code",
      "source": [
        "# Теперь обработаем со стороны купленного \n",
        "\n",
        "acquired_by = acq.groupby('acquired_object_id').agg({'acquiring_object_id': agg_strings}).reset_index()"
      ],
      "metadata": {
        "id": "5xAiM3UAs9Dl"
      },
      "execution_count": null,
      "outputs": []
    },
    {
      "cell_type": "code",
      "source": [
        "acquired_at = acq.groupby('acquired_object_id')['acquired_at'].max().reset_index()"
      ],
      "metadata": {
        "id": "qiTFF25btZ4p"
      },
      "execution_count": null,
      "outputs": []
    },
    {
      "cell_type": "code",
      "source": [
        "price_of_acq = acq.groupby('acquired_object_id')['price_amount'].sum().reset_index()"
      ],
      "metadata": {
        "id": "GMOaKTK1tlxE"
      },
      "execution_count": null,
      "outputs": []
    },
    {
      "cell_type": "code",
      "source": [
        "terms = acq.groupby('acquired_object_id').agg({'term_code': agg_strings}).reset_index()"
      ],
      "metadata": {
        "id": "omJzI3jit3f2"
      },
      "execution_count": null,
      "outputs": []
    },
    {
      "cell_type": "code",
      "source": [
        "acquired_by = acquired_by.merge(acquired_at, how='outer', on='acquired_object_id')"
      ],
      "metadata": {
        "id": "PY8diTR5uGIj"
      },
      "execution_count": null,
      "outputs": []
    },
    {
      "cell_type": "code",
      "source": [
        "acquired_by = acquired_by.merge(price_of_acq, how='outer', on='acquired_object_id')"
      ],
      "metadata": {
        "id": "kV13rk8VuUm_"
      },
      "execution_count": null,
      "outputs": []
    },
    {
      "cell_type": "code",
      "source": [
        "acquired_by = acquired_by.merge(terms, how='outer', on='acquired_object_id')"
      ],
      "metadata": {
        "id": "wFwh2ItfudiK"
      },
      "execution_count": null,
      "outputs": []
    },
    {
      "cell_type": "code",
      "source": [
        "acquired_by = acquired_by.rename(columns={'acquired_object_id': 'id', 'acquiring_object_id': 'acquired_by',\n",
        "       'price_amount': 'final_sell_price', 'term_code' : 'acquired_on_terms'})"
      ],
      "metadata": {
        "id": "zcRR1fT2uqBU"
      },
      "execution_count": null,
      "outputs": []
    },
    {
      "cell_type": "code",
      "source": [
        "acquired_by.sample()"
      ],
      "metadata": {
        "colab": {
          "base_uri": "https://localhost:8080/",
          "height": 81
        },
        "id": "PZHnXdtRv_wf",
        "outputId": "d6e1adf8-e41f-4e33-f2e3-3d8b2e18647d"
      },
      "execution_count": null,
      "outputs": [
        {
          "output_type": "execute_result",
          "data": {
            "text/plain": [
              "            id acquired_by acquired_at  final_sell_price acquired_on_terms\n",
              "4199  c:277631    c:277632  2012-05-16               0.0    cash_and_stock"
            ],
            "text/html": [
              "\n",
              "  <div id=\"df-6709110b-4774-4c13-a131-b671d656a9e9\">\n",
              "    <div class=\"colab-df-container\">\n",
              "      <div>\n",
              "<style scoped>\n",
              "    .dataframe tbody tr th:only-of-type {\n",
              "        vertical-align: middle;\n",
              "    }\n",
              "\n",
              "    .dataframe tbody tr th {\n",
              "        vertical-align: top;\n",
              "    }\n",
              "\n",
              "    .dataframe thead th {\n",
              "        text-align: right;\n",
              "    }\n",
              "</style>\n",
              "<table border=\"1\" class=\"dataframe\">\n",
              "  <thead>\n",
              "    <tr style=\"text-align: right;\">\n",
              "      <th></th>\n",
              "      <th>id</th>\n",
              "      <th>acquired_by</th>\n",
              "      <th>acquired_at</th>\n",
              "      <th>final_sell_price</th>\n",
              "      <th>acquired_on_terms</th>\n",
              "    </tr>\n",
              "  </thead>\n",
              "  <tbody>\n",
              "    <tr>\n",
              "      <th>4199</th>\n",
              "      <td>c:277631</td>\n",
              "      <td>c:277632</td>\n",
              "      <td>2012-05-16</td>\n",
              "      <td>0.0</td>\n",
              "      <td>cash_and_stock</td>\n",
              "    </tr>\n",
              "  </tbody>\n",
              "</table>\n",
              "</div>\n",
              "      <button class=\"colab-df-convert\" onclick=\"convertToInteractive('df-6709110b-4774-4c13-a131-b671d656a9e9')\"\n",
              "              title=\"Convert this dataframe to an interactive table.\"\n",
              "              style=\"display:none;\">\n",
              "        \n",
              "  <svg xmlns=\"http://www.w3.org/2000/svg\" height=\"24px\"viewBox=\"0 0 24 24\"\n",
              "       width=\"24px\">\n",
              "    <path d=\"M0 0h24v24H0V0z\" fill=\"none\"/>\n",
              "    <path d=\"M18.56 5.44l.94 2.06.94-2.06 2.06-.94-2.06-.94-.94-2.06-.94 2.06-2.06.94zm-11 1L8.5 8.5l.94-2.06 2.06-.94-2.06-.94L8.5 2.5l-.94 2.06-2.06.94zm10 10l.94 2.06.94-2.06 2.06-.94-2.06-.94-.94-2.06-.94 2.06-2.06.94z\"/><path d=\"M17.41 7.96l-1.37-1.37c-.4-.4-.92-.59-1.43-.59-.52 0-1.04.2-1.43.59L10.3 9.45l-7.72 7.72c-.78.78-.78 2.05 0 2.83L4 21.41c.39.39.9.59 1.41.59.51 0 1.02-.2 1.41-.59l7.78-7.78 2.81-2.81c.8-.78.8-2.07 0-2.86zM5.41 20L4 18.59l7.72-7.72 1.47 1.35L5.41 20z\"/>\n",
              "  </svg>\n",
              "      </button>\n",
              "      \n",
              "  <style>\n",
              "    .colab-df-container {\n",
              "      display:flex;\n",
              "      flex-wrap:wrap;\n",
              "      gap: 12px;\n",
              "    }\n",
              "\n",
              "    .colab-df-convert {\n",
              "      background-color: #E8F0FE;\n",
              "      border: none;\n",
              "      border-radius: 50%;\n",
              "      cursor: pointer;\n",
              "      display: none;\n",
              "      fill: #1967D2;\n",
              "      height: 32px;\n",
              "      padding: 0 0 0 0;\n",
              "      width: 32px;\n",
              "    }\n",
              "\n",
              "    .colab-df-convert:hover {\n",
              "      background-color: #E2EBFA;\n",
              "      box-shadow: 0px 1px 2px rgba(60, 64, 67, 0.3), 0px 1px 3px 1px rgba(60, 64, 67, 0.15);\n",
              "      fill: #174EA6;\n",
              "    }\n",
              "\n",
              "    [theme=dark] .colab-df-convert {\n",
              "      background-color: #3B4455;\n",
              "      fill: #D2E3FC;\n",
              "    }\n",
              "\n",
              "    [theme=dark] .colab-df-convert:hover {\n",
              "      background-color: #434B5C;\n",
              "      box-shadow: 0px 1px 3px 1px rgba(0, 0, 0, 0.15);\n",
              "      filter: drop-shadow(0px 1px 2px rgba(0, 0, 0, 0.3));\n",
              "      fill: #FFFFFF;\n",
              "    }\n",
              "  </style>\n",
              "\n",
              "      <script>\n",
              "        const buttonEl =\n",
              "          document.querySelector('#df-6709110b-4774-4c13-a131-b671d656a9e9 button.colab-df-convert');\n",
              "        buttonEl.style.display =\n",
              "          google.colab.kernel.accessAllowed ? 'block' : 'none';\n",
              "\n",
              "        async function convertToInteractive(key) {\n",
              "          const element = document.querySelector('#df-6709110b-4774-4c13-a131-b671d656a9e9');\n",
              "          const dataTable =\n",
              "            await google.colab.kernel.invokeFunction('convertToInteractive',\n",
              "                                                     [key], {});\n",
              "          if (!dataTable) return;\n",
              "\n",
              "          const docLinkHtml = 'Like what you see? Visit the ' +\n",
              "            '<a target=\"_blank\" href=https://colab.research.google.com/notebooks/data_table.ipynb>data table notebook</a>'\n",
              "            + ' to learn more about interactive tables.';\n",
              "          element.innerHTML = '';\n",
              "          dataTable['output_type'] = 'display_data';\n",
              "          await google.colab.output.renderOutput(dataTable, element);\n",
              "          const docLink = document.createElement('div');\n",
              "          docLink.innerHTML = docLinkHtml;\n",
              "          element.appendChild(docLink);\n",
              "        }\n",
              "      </script>\n",
              "    </div>\n",
              "  </div>\n",
              "  "
            ]
          },
          "metadata": {},
          "execution_count": 237
        }
      ]
    },
    {
      "cell_type": "code",
      "source": [
        "# Добавим признаки acquired_by\tacquired_at\tfinal_sell_price\tacquired_on_terms\n",
        "\n",
        "df = df.merge(acquired_by, how='left', on='id')"
      ],
      "metadata": {
        "id": "XKKwtv8rvtF5"
      },
      "execution_count": null,
      "outputs": []
    },
    {
      "cell_type": "code",
      "source": [
        "df.sample()"
      ],
      "metadata": {
        "colab": {
          "base_uri": "https://localhost:8080/",
          "height": 174
        },
        "id": "2J2jhnce54hu",
        "outputId": "c297c1ce-5d84-48f7-db08-0bc854f9ebc4"
      },
      "execution_count": null,
      "outputs": [
        {
          "output_type": "execute_result",
          "data": {
            "text/plain": [
              "              id  entity_id     name normalized_name category_code  status  \\\n",
              "219374  c:262760   262760.0  Wooroos         wooroos     ecommerce     1.0   \n",
              "\n",
              "       founded_at closed_at       domain            homepage_url  ...  \\\n",
              "219374 2013-07-01       NaT  wooroos.com  http://www.wooroos.com  ...   \n",
              "\n",
              "       acquiring_object_id acquired_at_first  acquired_at_last  price_amount  \\\n",
              "219374                 NaN               NaN               NaN           NaN   \n",
              "\n",
              "       term_code acquired_object_id acquired_by acquired_at final_sell_price  \\\n",
              "219374       NaN                NaN         NaN         NaN              NaN   \n",
              "\n",
              "       acquired_on_terms  \n",
              "219374               NaN  \n",
              "\n",
              "[1 rows x 61 columns]"
            ],
            "text/html": [
              "\n",
              "  <div id=\"df-5743bfc2-b01f-4a7b-bedd-1b0318e555a2\">\n",
              "    <div class=\"colab-df-container\">\n",
              "      <div>\n",
              "<style scoped>\n",
              "    .dataframe tbody tr th:only-of-type {\n",
              "        vertical-align: middle;\n",
              "    }\n",
              "\n",
              "    .dataframe tbody tr th {\n",
              "        vertical-align: top;\n",
              "    }\n",
              "\n",
              "    .dataframe thead th {\n",
              "        text-align: right;\n",
              "    }\n",
              "</style>\n",
              "<table border=\"1\" class=\"dataframe\">\n",
              "  <thead>\n",
              "    <tr style=\"text-align: right;\">\n",
              "      <th></th>\n",
              "      <th>id</th>\n",
              "      <th>entity_id</th>\n",
              "      <th>name</th>\n",
              "      <th>normalized_name</th>\n",
              "      <th>category_code</th>\n",
              "      <th>status</th>\n",
              "      <th>founded_at</th>\n",
              "      <th>closed_at</th>\n",
              "      <th>domain</th>\n",
              "      <th>homepage_url</th>\n",
              "      <th>...</th>\n",
              "      <th>acquiring_object_id</th>\n",
              "      <th>acquired_at_first</th>\n",
              "      <th>acquired_at_last</th>\n",
              "      <th>price_amount</th>\n",
              "      <th>term_code</th>\n",
              "      <th>acquired_object_id</th>\n",
              "      <th>acquired_by</th>\n",
              "      <th>acquired_at</th>\n",
              "      <th>final_sell_price</th>\n",
              "      <th>acquired_on_terms</th>\n",
              "    </tr>\n",
              "  </thead>\n",
              "  <tbody>\n",
              "    <tr>\n",
              "      <th>219374</th>\n",
              "      <td>c:262760</td>\n",
              "      <td>262760.0</td>\n",
              "      <td>Wooroos</td>\n",
              "      <td>wooroos</td>\n",
              "      <td>ecommerce</td>\n",
              "      <td>1.0</td>\n",
              "      <td>2013-07-01</td>\n",
              "      <td>NaT</td>\n",
              "      <td>wooroos.com</td>\n",
              "      <td>http://www.wooroos.com</td>\n",
              "      <td>...</td>\n",
              "      <td>NaN</td>\n",
              "      <td>NaN</td>\n",
              "      <td>NaN</td>\n",
              "      <td>NaN</td>\n",
              "      <td>NaN</td>\n",
              "      <td>NaN</td>\n",
              "      <td>NaN</td>\n",
              "      <td>NaN</td>\n",
              "      <td>NaN</td>\n",
              "      <td>NaN</td>\n",
              "    </tr>\n",
              "  </tbody>\n",
              "</table>\n",
              "<p>1 rows × 61 columns</p>\n",
              "</div>\n",
              "      <button class=\"colab-df-convert\" onclick=\"convertToInteractive('df-5743bfc2-b01f-4a7b-bedd-1b0318e555a2')\"\n",
              "              title=\"Convert this dataframe to an interactive table.\"\n",
              "              style=\"display:none;\">\n",
              "        \n",
              "  <svg xmlns=\"http://www.w3.org/2000/svg\" height=\"24px\"viewBox=\"0 0 24 24\"\n",
              "       width=\"24px\">\n",
              "    <path d=\"M0 0h24v24H0V0z\" fill=\"none\"/>\n",
              "    <path d=\"M18.56 5.44l.94 2.06.94-2.06 2.06-.94-2.06-.94-.94-2.06-.94 2.06-2.06.94zm-11 1L8.5 8.5l.94-2.06 2.06-.94-2.06-.94L8.5 2.5l-.94 2.06-2.06.94zm10 10l.94 2.06.94-2.06 2.06-.94-2.06-.94-.94-2.06-.94 2.06-2.06.94z\"/><path d=\"M17.41 7.96l-1.37-1.37c-.4-.4-.92-.59-1.43-.59-.52 0-1.04.2-1.43.59L10.3 9.45l-7.72 7.72c-.78.78-.78 2.05 0 2.83L4 21.41c.39.39.9.59 1.41.59.51 0 1.02-.2 1.41-.59l7.78-7.78 2.81-2.81c.8-.78.8-2.07 0-2.86zM5.41 20L4 18.59l7.72-7.72 1.47 1.35L5.41 20z\"/>\n",
              "  </svg>\n",
              "      </button>\n",
              "      \n",
              "  <style>\n",
              "    .colab-df-container {\n",
              "      display:flex;\n",
              "      flex-wrap:wrap;\n",
              "      gap: 12px;\n",
              "    }\n",
              "\n",
              "    .colab-df-convert {\n",
              "      background-color: #E8F0FE;\n",
              "      border: none;\n",
              "      border-radius: 50%;\n",
              "      cursor: pointer;\n",
              "      display: none;\n",
              "      fill: #1967D2;\n",
              "      height: 32px;\n",
              "      padding: 0 0 0 0;\n",
              "      width: 32px;\n",
              "    }\n",
              "\n",
              "    .colab-df-convert:hover {\n",
              "      background-color: #E2EBFA;\n",
              "      box-shadow: 0px 1px 2px rgba(60, 64, 67, 0.3), 0px 1px 3px 1px rgba(60, 64, 67, 0.15);\n",
              "      fill: #174EA6;\n",
              "    }\n",
              "\n",
              "    [theme=dark] .colab-df-convert {\n",
              "      background-color: #3B4455;\n",
              "      fill: #D2E3FC;\n",
              "    }\n",
              "\n",
              "    [theme=dark] .colab-df-convert:hover {\n",
              "      background-color: #434B5C;\n",
              "      box-shadow: 0px 1px 3px 1px rgba(0, 0, 0, 0.15);\n",
              "      filter: drop-shadow(0px 1px 2px rgba(0, 0, 0, 0.3));\n",
              "      fill: #FFFFFF;\n",
              "    }\n",
              "  </style>\n",
              "\n",
              "      <script>\n",
              "        const buttonEl =\n",
              "          document.querySelector('#df-5743bfc2-b01f-4a7b-bedd-1b0318e555a2 button.colab-df-convert');\n",
              "        buttonEl.style.display =\n",
              "          google.colab.kernel.accessAllowed ? 'block' : 'none';\n",
              "\n",
              "        async function convertToInteractive(key) {\n",
              "          const element = document.querySelector('#df-5743bfc2-b01f-4a7b-bedd-1b0318e555a2');\n",
              "          const dataTable =\n",
              "            await google.colab.kernel.invokeFunction('convertToInteractive',\n",
              "                                                     [key], {});\n",
              "          if (!dataTable) return;\n",
              "\n",
              "          const docLinkHtml = 'Like what you see? Visit the ' +\n",
              "            '<a target=\"_blank\" href=https://colab.research.google.com/notebooks/data_table.ipynb>data table notebook</a>'\n",
              "            + ' to learn more about interactive tables.';\n",
              "          element.innerHTML = '';\n",
              "          dataTable['output_type'] = 'display_data';\n",
              "          await google.colab.output.renderOutput(dataTable, element);\n",
              "          const docLink = document.createElement('div');\n",
              "          docLink.innerHTML = docLinkHtml;\n",
              "          element.appendChild(docLink);\n",
              "        }\n",
              "      </script>\n",
              "    </div>\n",
              "  </div>\n",
              "  "
            ]
          },
          "metadata": {},
          "execution_count": 240
        }
      ]
    },
    {
      "cell_type": "code",
      "source": [
        "df.to_pickle('/content/drive/MyDrive/Хакатон/companies_code_freeze.pkl')"
      ],
      "metadata": {
        "id": "d84kU_62xQqf"
      },
      "execution_count": null,
      "outputs": []
    },
    {
      "cell_type": "code",
      "source": [
        "final = pd.read_pickle('/content/drive/MyDrive/Хакатон/companies_code_freeze.pkl')"
      ],
      "metadata": {
        "id": "Hc1E6TPp-z2v"
      },
      "execution_count": 243,
      "outputs": []
    },
    {
      "cell_type": "code",
      "source": [
        "final.columns"
      ],
      "metadata": {
        "colab": {
          "base_uri": "https://localhost:8080/"
        },
        "id": "qUy-P6rf_CAX",
        "outputId": "89e6b9c7-5ac3-4c30-cdc6-99b92b45e791"
      },
      "execution_count": 244,
      "outputs": [
        {
          "output_type": "execute_result",
          "data": {
            "text/plain": [
              "Index(['id', 'entity_id', 'name', 'normalized_name', 'category_code', 'status',\n",
              "       'founded_at', 'closed_at', 'domain', 'homepage_url', 'twitter_username',\n",
              "       'logo_url', 'logo_width', 'logo_height', 'short_description',\n",
              "       'overview', 'tag_list', 'state_code', 'city', 'region',\n",
              "       'first_investment_at', 'last_investment_at', 'investment_rounds',\n",
              "       'invested_companies', 'first_funding_at', 'last_funding_at',\n",
              "       'funding_rounds', 'funding_total_usd', 'first_milestone_at',\n",
              "       'last_milestone_at', 'milestones', 'relationships', 'updated_at',\n",
              "       'linkcut', 'category_list', 'crunchbase_profile', 'country', 'founders',\n",
              "       'investors', 'address', 'state', 'seed_profile', 'y_combinator_year',\n",
              "       'city_2023', 'country_2023', 'Industries', 'Employees',\n",
              "       'homepage_url_2023', 'Company_values', 'Org_structure', 'Teams and qty',\n",
              "       'acquiring_object_id', 'acquired_at_first', 'acquired_at_last',\n",
              "       'price_amount', 'term_code', 'acquired_object_id', 'acquired_by',\n",
              "       'acquired_at', 'final_sell_price', 'acquired_on_terms'],\n",
              "      dtype='object')"
            ]
          },
          "metadata": {},
          "execution_count": 244
        }
      ]
    },
    {
      "cell_type": "code",
      "source": [
        "final.info()"
      ],
      "metadata": {
        "colab": {
          "base_uri": "https://localhost:8080/"
        },
        "id": "d63a3S4f_D1x",
        "outputId": "a613e956-8fd2-4a98-b1d4-e3354b2308d9"
      },
      "execution_count": 245,
      "outputs": [
        {
          "output_type": "stream",
          "name": "stdout",
          "text": [
            "<class 'pandas.core.frame.DataFrame'>\n",
            "Int64Index: 226175 entries, 0 to 226174\n",
            "Data columns (total 61 columns):\n",
            " #   Column               Non-Null Count   Dtype         \n",
            "---  ------               --------------   -----         \n",
            " 0   id                   196512 non-null  object        \n",
            " 1   entity_id            196512 non-null  float64       \n",
            " 2   name                 226173 non-null  object        \n",
            " 3   normalized_name      226173 non-null  object        \n",
            " 4   category_code        152500 non-null  object        \n",
            " 5   status               225674 non-null  float64       \n",
            " 6   founded_at           115217 non-null  datetime64[ns]\n",
            " 7   closed_at            2620 non-null    datetime64[ns]\n",
            " 8   domain               154653 non-null  object        \n",
            " 9   homepage_url         154610 non-null  object        \n",
            " 10  twitter_username     80587 non-null   object        \n",
            " 11  logo_url             110103 non-null  object        \n",
            " 12  logo_width           196512 non-null  float64       \n",
            " 13  logo_height          196512 non-null  float64       \n",
            " 14  short_description    92056 non-null   object        \n",
            " 15  overview             127879 non-null  object        \n",
            " 16  tag_list             81446 non-null   object        \n",
            " 17  state_code           87807 non-null   object        \n",
            " 18  city                 111626 non-null  object        \n",
            " 19  region               217554 non-null  object        \n",
            " 20  first_investment_at  2582 non-null    datetime64[ns]\n",
            " 21  last_investment_at   2582 non-null    datetime64[ns]\n",
            " 22  investment_rounds    196512 non-null  float64       \n",
            " 23  invested_companies   196512 non-null  float64       \n",
            " 24  first_funding_at     67474 non-null   datetime64[ns]\n",
            " 25  last_funding_at      67495 non-null   datetime64[ns]\n",
            " 26  funding_rounds       225674 non-null  float64       \n",
            " 27  funding_total_usd    217502 non-null  float64       \n",
            " 28  first_milestone_at   91686 non-null   datetime64[ns]\n",
            " 29  last_milestone_at    91686 non-null   datetime64[ns]\n",
            " 30  milestones           196512 non-null  float64       \n",
            " 31  relationships        196512 non-null  float64       \n",
            " 32  updated_at           225674 non-null  datetime64[ns]\n",
            " 33  linkcut              225588 non-null  object        \n",
            " 34  category_list        54778 non-null   object        \n",
            " 35  crunchbase_profile   225598 non-null  object        \n",
            " 36  country              115348 non-null  object        \n",
            " 37  founders             449 non-null     object        \n",
            " 38  investors            688 non-null     object        \n",
            " 39  address              444 non-null     object        \n",
            " 40  state                451 non-null     object        \n",
            " 41  seed_profile         688 non-null     object        \n",
            " 42  y_combinator_year    688 non-null     datetime64[ns]\n",
            " 43  city_2023            684 non-null     object        \n",
            " 44  country_2023         692 non-null     object        \n",
            " 45  Industries           753 non-null     object        \n",
            " 46  Employees            781 non-null     object        \n",
            " 47  homepage_url_2023    781 non-null     object        \n",
            " 48  Company_values       7 non-null       object        \n",
            " 49  Org_structure        675 non-null     object        \n",
            " 50  Teams and qty        431 non-null     object        \n",
            " 51  acquiring_object_id  4847 non-null    object        \n",
            " 52  acquired_at_first    4847 non-null    object        \n",
            " 53  acquired_at_last     4847 non-null    object        \n",
            " 54  price_amount         4847 non-null    float64       \n",
            " 55  term_code            4847 non-null    object        \n",
            " 56  acquired_object_id   4847 non-null    object        \n",
            " 57  acquired_by          9394 non-null    object        \n",
            " 58  acquired_at          9394 non-null    object        \n",
            " 59  final_sell_price     9394 non-null    float64       \n",
            " 60  acquired_on_terms    9394 non-null    object        \n",
            "dtypes: datetime64[ns](10), float64(12), object(39)\n",
            "memory usage: 107.0+ MB\n"
          ]
        }
      ]
    }
  ]
}